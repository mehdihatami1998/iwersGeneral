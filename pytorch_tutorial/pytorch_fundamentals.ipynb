{
 "cells": [
  {
   "cell_type": "code",
   "execution_count": 1,
   "metadata": {},
   "outputs": [
    {
     "data": {
      "text/plain": [
       "'1.12.1'"
      ]
     },
     "execution_count": 1,
     "metadata": {},
     "output_type": "execute_result"
    }
   ],
   "source": [
    "import torch\n",
    "torch.__version__"
   ]
  },
  {
   "cell_type": "code",
   "execution_count": 7,
   "metadata": {},
   "outputs": [
    {
     "name": "stdout",
     "output_type": "stream",
     "text": [
      "scalar.ndim: 0\n",
      "scalar.shape: torch.Size([])\n"
     ]
    }
   ],
   "source": [
    "# different data types in Pytorch\n",
    "scalar = torch.tensor(2)\n",
    "print(f'scalar.ndim: {scalar.ndim}')\n",
    "print(f'scalar.shape: {scalar.shape}')"
   ]
  },
  {
   "cell_type": "code",
   "execution_count": 9,
   "metadata": {},
   "outputs": [
    {
     "name": "stdout",
     "output_type": "stream",
     "text": [
      "vector.ndim: 1\n",
      "vector.shape: torch.Size([2])\n"
     ]
    }
   ],
   "source": [
    "vector = torch.tensor([2, 3])\n",
    "print(f'vector.ndim: {vector.ndim}')\n",
    "print(f'vector.shape: {vector.shape}')"
   ]
  },
  {
   "cell_type": "code",
   "execution_count": 10,
   "metadata": {},
   "outputs": [
    {
     "name": "stdout",
     "output_type": "stream",
     "text": [
      "MATRIX.ndim: 2\n",
      "MATRIX.shape: torch.Size([2, 2])\n"
     ]
    }
   ],
   "source": [
    "MATRIX = torch.tensor([[2, 3],\n",
    "                       [4, 5]]) # 2x2 matrix\n",
    "print(f'MATRIX.ndim: {MATRIX.ndim}')\n",
    "print(f'MATRIX.shape: {MATRIX.shape}')"
   ]
  },
  {
   "cell_type": "code",
   "execution_count": 11,
   "metadata": {},
   "outputs": [
    {
     "name": "stdout",
     "output_type": "stream",
     "text": [
      "TENSOR.ndim: 3\n",
      "TENSOR.shape: torch.Size([2, 2, 2])\n"
     ]
    }
   ],
   "source": [
    "TENSOR = torch.tensor([[[2, 3],\n",
    "                        [4, 5]],\n",
    "                       [[6, 7],\n",
    "                        [8, 9]]]) # 2x2x2 tensor\n",
    "print(f'TENSOR.ndim: {TENSOR.ndim}')\n",
    "print(f'TENSOR.shape: {TENSOR.shape}')"
   ]
  },
  {
   "cell_type": "code",
   "execution_count": null,
   "metadata": {},
   "outputs": [],
   "source": []
  }
 ],
 "metadata": {
  "kernelspec": {
   "display_name": "Python 3",
   "language": "python",
   "name": "python3"
  },
  "language_info": {
   "codemirror_mode": {
    "name": "ipython",
    "version": 3
   },
   "file_extension": ".py",
   "mimetype": "text/x-python",
   "name": "python",
   "nbconvert_exporter": "python",
   "pygments_lexer": "ipython3",
   "version": "3.9.7"
  }
 },
 "nbformat": 4,
 "nbformat_minor": 2
}
