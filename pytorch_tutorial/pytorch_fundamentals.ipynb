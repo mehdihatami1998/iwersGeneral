{
 "cells": [
  {
   "cell_type": "code",
   "execution_count": 3,
   "metadata": {},
   "outputs": [
    {
     "data": {
      "text/plain": [
       "'1.12.1'"
      ]
     },
     "execution_count": 3,
     "metadata": {},
     "output_type": "execute_result"
    }
   ],
   "source": [
    "import torch\n",
    "torch.__version__"
   ]
  },
  {
   "cell_type": "markdown",
   "metadata": {},
   "source": [
    "### Datatypes in Pytorch"
   ]
  },
  {
   "cell_type": "code",
   "execution_count": 4,
   "metadata": {},
   "outputs": [
    {
     "name": "stdout",
     "output_type": "stream",
     "text": [
      "scalar.ndim: 0\n",
      "scalar.shape: torch.Size([])\n"
     ]
    }
   ],
   "source": [
    "# different data types in Pytorch\n",
    "scalar = torch.tensor(2)\n",
    "print(f'scalar.ndim: {scalar.ndim}')\n",
    "print(f'scalar.shape: {scalar.shape}')"
   ]
  },
  {
   "cell_type": "code",
   "execution_count": 5,
   "metadata": {},
   "outputs": [
    {
     "name": "stdout",
     "output_type": "stream",
     "text": [
      "vector.ndim: 1\n",
      "vector.shape: torch.Size([2])\n"
     ]
    }
   ],
   "source": [
    "vector = torch.tensor([2, 3])\n",
    "print(f'vector.ndim: {vector.ndim}')\n",
    "print(f'vector.shape: {vector.shape}')"
   ]
  },
  {
   "cell_type": "code",
   "execution_count": 6,
   "metadata": {},
   "outputs": [
    {
     "name": "stdout",
     "output_type": "stream",
     "text": [
      "MATRIX.ndim: 2\n",
      "MATRIX.shape: torch.Size([2, 2])\n"
     ]
    }
   ],
   "source": [
    "MATRIX = torch.tensor([[2, 3],\n",
    "                       [4, 5]]) # 2x2 matrix\n",
    "print(f'MATRIX.ndim: {MATRIX.ndim}')\n",
    "print(f'MATRIX.shape: {MATRIX.shape}')"
   ]
  },
  {
   "cell_type": "code",
   "execution_count": 7,
   "metadata": {},
   "outputs": [
    {
     "name": "stdout",
     "output_type": "stream",
     "text": [
      "TENSOR.ndim: 3\n",
      "TENSOR.shape: torch.Size([2, 2, 2])\n"
     ]
    }
   ],
   "source": [
    "TENSOR = torch.tensor([[[2, 3],\n",
    "                        [4, 5]],\n",
    "                       [[6, 7],\n",
    "                        [8, 9]]]) # 2x2x2 tensor\n",
    "print(f'TENSOR.ndim: {TENSOR.ndim}')\n",
    "print(f'TENSOR.shape: {TENSOR.shape}')"
   ]
  },
  {
   "cell_type": "markdown",
   "metadata": {},
   "source": [
    "### Making Tensors"
   ]
  },
  {
   "cell_type": "code",
   "execution_count": 19,
   "metadata": {},
   "outputs": [
    {
     "name": "stdout",
     "output_type": "stream",
     "text": [
      "random_tensor.ndim: 3\n",
      "random_tensor.shape: torch.Size([2, 3, 4])\n",
      "random_tensor.dtype: torch.float32\n",
      "tensor([[[0.4427, 0.7081, 0.8869, 0.8414],\n",
      "         [0.6233, 0.4882, 0.8250, 0.4244],\n",
      "         [0.7553, 0.6702, 0.9821, 0.0648]],\n",
      "\n",
      "        [[0.2068, 0.7514, 0.5367, 0.4723],\n",
      "         [0.8822, 0.2651, 0.6054, 0.5018],\n",
      "         [0.7750, 0.7235, 0.2744, 0.6591]]])\n"
     ]
    }
   ],
   "source": [
    "# Making random tensors\n",
    "random_tensor = torch.rand(size=(2, 3,4))\n",
    "\n",
    "print(f'random_tensor.ndim: {random_tensor.ndim}')\n",
    "print(f'random_tensor.shape: {random_tensor.shape}')\n",
    "print(f'random_tensor.dtype: {random_tensor.dtype}')    \n",
    "print(random_tensor)"
   ]
  },
  {
   "cell_type": "code",
   "execution_count": 20,
   "metadata": {},
   "outputs": [
    {
     "name": "stdout",
     "output_type": "stream",
     "text": [
      "ones_tensor.ndim: 3\n",
      "ones_tensor.shape: torch.Size([2, 3, 4])\n",
      "ones_tensor.dtype: torch.float32\n",
      "tensor([[[1., 1., 1., 1.],\n",
      "         [1., 1., 1., 1.],\n",
      "         [1., 1., 1., 1.]],\n",
      "\n",
      "        [[1., 1., 1., 1.],\n",
      "         [1., 1., 1., 1.],\n",
      "         [1., 1., 1., 1.]]])\n"
     ]
    }
   ],
   "source": [
    "# Making ones tensor\n",
    "ones_tensor = torch.ones(size=(2, 3,4))\n",
    "print(f'ones_tensor.ndim: {ones_tensor.ndim}')\n",
    "print(f'ones_tensor.shape: {ones_tensor.shape}')\n",
    "print(f'ones_tensor.dtype: {ones_tensor.dtype}')\n",
    "print(ones_tensor)\n"
   ]
  },
  {
   "cell_type": "code",
   "execution_count": 15,
   "metadata": {},
   "outputs": [
    {
     "name": "stdout",
     "output_type": "stream",
     "text": [
      "zeros_tensor.ndim: 3\n",
      "zeros_tensor.shape: torch.Size([2, 3, 4])\n",
      "tensor([[[0., 0., 0., 0.],\n",
      "         [0., 0., 0., 0.],\n",
      "         [0., 0., 0., 0.]],\n",
      "\n",
      "        [[0., 0., 0., 0.],\n",
      "         [0., 0., 0., 0.],\n",
      "         [0., 0., 0., 0.]]])\n"
     ]
    }
   ],
   "source": [
    "# Making zeros tensor\n",
    "zeros_tensor = torch.zeros(size=(2, 3,4))\n",
    "print(f'zeros_tensor.ndim: {zeros_tensor.ndim}')\n",
    "print(f'zeros_tensor.shape: {zeros_tensor.shape}')\n",
    "print(zeros_tensor)\n"
   ]
  },
  {
   "cell_type": "code",
   "execution_count": 22,
   "metadata": {},
   "outputs": [
    {
     "name": "stdout",
     "output_type": "stream",
     "text": [
      "tensor([0, 1, 2, 3, 4, 5, 6, 7, 8, 9])\n"
     ]
    }
   ],
   "source": [
    "# Creating a range tensor\n",
    "range_tensor = torch.arange(start=0, end=10, step=1)\n",
    "print(range_tensor)\n"
   ]
  },
  {
   "cell_type": "code",
   "execution_count": 37,
   "metadata": {},
   "outputs": [
    {
     "name": "stdout",
     "output_type": "stream",
     "text": [
      "range_tensor2.ndim: 3\n",
      "range_tensor2.shape: torch.Size([2, 3, 4])\n",
      "range_tensor2.dtype: torch.int64\n",
      "tensor([[[ 0,  1,  2,  3],\n",
      "         [ 4,  5,  6,  7],\n",
      "         [ 8,  9, 10, 11]],\n",
      "\n",
      "        [[12, 13, 14, 15],\n",
      "         [16, 17, 18, 19],\n",
      "         [20, 21, 22, 23]]])\n"
     ]
    }
   ],
   "source": [
    "# changing the shape of a tensor\n",
    "range_tensor2 = torch.arange(0, 24, 1,).reshape(2, 3, 4)\n",
    "\n",
    "print(f'range_tensor2.ndim: {range_tensor2.ndim}')\n",
    "print(f'range_tensor2.shape: {range_tensor2.shape}')\n",
    "print(f'range_tensor2.dtype: {range_tensor2.dtype}')\n",
    "print(range_tensor2)"
   ]
  },
  {
   "cell_type": "code",
   "execution_count": 38,
   "metadata": {},
   "outputs": [
    {
     "name": "stdout",
     "output_type": "stream",
     "text": [
      "range_tensor3.ndim: 3\n",
      "range_tensor3.shape: torch.Size([2, 3, 4])\n",
      "range_tensor3.dtype: torch.float32\n",
      "tensor([[[ 0.,  1.,  2.,  3.],\n",
      "         [ 4.,  5.,  6.,  7.],\n",
      "         [ 8.,  9., 10., 11.]],\n",
      "\n",
      "        [[12., 13., 14., 15.],\n",
      "         [16., 17., 18., 19.],\n",
      "         [20., 21., 22., 23.]]])\n"
     ]
    }
   ],
   "source": [
    "# changing the shape of a tensor\n",
    "range_tensor3 = torch.arange(0, 24, 1, dtype=torch.float32).reshape(2, 3, 4)\n",
    "\n",
    "print(f'range_tensor3.ndim: {range_tensor3.ndim}')\n",
    "print(f'range_tensor3.shape: {range_tensor3.shape}')\n",
    "print(f'range_tensor3.dtype: {range_tensor3.dtype}')\n",
    "print(range_tensor3)"
   ]
  },
  {
   "cell_type": "code",
   "execution_count": 45,
   "metadata": {},
   "outputs": [
    {
     "name": "stdout",
     "output_type": "stream",
     "text": [
      "device: cpu\n",
      "range_tensor4.ndim: 3\n",
      "range_tensor4.shape: torch.Size([2, 3, 4])\n",
      "range_tensor4.dtype: torch.int64\n",
      "tensor([[[ 0,  1,  2,  3],\n",
      "         [ 4,  5,  6,  7],\n",
      "         [ 8,  9, 10, 11]],\n",
      "\n",
      "        [[12, 13, 14, 15],\n",
      "         [16, 17, 18, 19],\n",
      "         [20, 21, 22, 23]]])\n"
     ]
    }
   ],
   "source": [
    "# changing the device of a tensor\n",
    "device = 'cuda' if torch.cuda.is_available() else 'cpu'\n",
    "range_tensor4 = torch.arange(0, 24, 1, device=device).reshape(2, 3, 4)\n",
    "print(f'device: {device}')\n",
    "print(f'range_tensor4.ndim: {range_tensor4.ndim}')\n",
    "print(f'range_tensor4.shape: {range_tensor4.shape}')\n",
    "print(f'range_tensor4.dtype: {range_tensor4.dtype}')\n",
    "print(range_tensor4)\n"
   ]
  },
  {
   "cell_type": "markdown",
   "metadata": {},
   "source": [
    "### Tensors Basic Operations"
   ]
  },
  {
   "cell_type": "code",
   "execution_count": 54,
   "metadata": {},
   "outputs": [
    {
     "name": "stdout",
     "output_type": "stream",
     "text": [
      "range_tensor4:\n",
      "  tensor([[[ 0,  1,  2,  3],\n",
      "         [ 4,  5,  6,  7],\n",
      "         [ 8,  9, 10, 11]],\n",
      "\n",
      "        [[12, 13, 14, 15],\n",
      "         [16, 17, 18, 19],\n",
      "         [20, 21, 22, 23]]])\n",
      "\n",
      "range_tensor5:\n",
      "  tensor([[[-3, -2, -1,  0],\n",
      "         [ 1,  2,  3,  4],\n",
      "         [ 5,  6,  7,  8]],\n",
      "\n",
      "        [[ 9, 10, 11, 12],\n",
      "         [13, 14, 15, 16],\n",
      "         [17, 18, 19, 20]]])\n"
     ]
    }
   ],
   "source": [
    "# basic operations on Tensors\n",
    "range_tensor5 = range_tensor4 - 3\n",
    "# also: range_tensor5 = torch.sub(range_tensor4, 3)\n",
    "print(f'range_tensor4:\\n  {range_tensor4}')\n",
    "print()\n",
    "print(f'range_tensor5:\\n  {range_tensor5}')\n"
   ]
  },
  {
   "cell_type": "code",
   "execution_count": 55,
   "metadata": {},
   "outputs": [
    {
     "name": "stdout",
     "output_type": "stream",
     "text": [
      "range_tensor4:\n",
      "  tensor([[[ 0,  1,  2,  3],\n",
      "         [ 4,  5,  6,  7],\n",
      "         [ 8,  9, 10, 11]],\n",
      "\n",
      "        [[12, 13, 14, 15],\n",
      "         [16, 17, 18, 19],\n",
      "         [20, 21, 22, 23]]])\n",
      "\n",
      "range_tensor6:\n",
      "  tensor([[[ 3,  4,  5,  6],\n",
      "         [ 7,  8,  9, 10],\n",
      "         [11, 12, 13, 14]],\n",
      "\n",
      "        [[15, 16, 17, 18],\n",
      "         [19, 20, 21, 22],\n",
      "         [23, 24, 25, 26]]])\n"
     ]
    }
   ],
   "source": [
    "range_tensor6 = range_tensor4 + 3\n",
    "# also: range_tensor6 = torch.add(range_tensor4, 3)\n",
    "print(f'range_tensor4:\\n  {range_tensor4}')\n",
    "print()\n",
    "print(f'range_tensor6:\\n  {range_tensor6}')\n"
   ]
  },
  {
   "cell_type": "code",
   "execution_count": 56,
   "metadata": {},
   "outputs": [
    {
     "name": "stdout",
     "output_type": "stream",
     "text": [
      "range_tensor4:\n",
      "  tensor([[[ 0,  1,  2,  3],\n",
      "         [ 4,  5,  6,  7],\n",
      "         [ 8,  9, 10, 11]],\n",
      "\n",
      "        [[12, 13, 14, 15],\n",
      "         [16, 17, 18, 19],\n",
      "         [20, 21, 22, 23]]])\n",
      "\n",
      "range_tensor7:\n",
      "  tensor([[[ 0,  3,  6,  9],\n",
      "         [12, 15, 18, 21],\n",
      "         [24, 27, 30, 33]],\n",
      "\n",
      "        [[36, 39, 42, 45],\n",
      "         [48, 51, 54, 57],\n",
      "         [60, 63, 66, 69]]])\n"
     ]
    }
   ],
   "source": [
    "range_tensor7 = range_tensor4 * 3\n",
    "# also: range_tensor7 = torch.mul(range_tensor4, 3)\n",
    "print(f'range_tensor4:\\n  {range_tensor4}')\n",
    "print()\n",
    "print(f'range_tensor7:\\n  {range_tensor7}')\n"
   ]
  },
  {
   "cell_type": "code",
   "execution_count": 57,
   "metadata": {},
   "outputs": [
    {
     "name": "stdout",
     "output_type": "stream",
     "text": [
      "range_tensor4:\n",
      "  tensor([[[ 0,  1,  2,  3],\n",
      "         [ 4,  5,  6,  7],\n",
      "         [ 8,  9, 10, 11]],\n",
      "\n",
      "        [[12, 13, 14, 15],\n",
      "         [16, 17, 18, 19],\n",
      "         [20, 21, 22, 23]]])\n",
      "\n",
      "range_tensor8:\n",
      "  tensor([[[0.0000, 0.3333, 0.6667, 1.0000],\n",
      "         [1.3333, 1.6667, 2.0000, 2.3333],\n",
      "         [2.6667, 3.0000, 3.3333, 3.6667]],\n",
      "\n",
      "        [[4.0000, 4.3333, 4.6667, 5.0000],\n",
      "         [5.3333, 5.6667, 6.0000, 6.3333],\n",
      "         [6.6667, 7.0000, 7.3333, 7.6667]]])\n"
     ]
    }
   ],
   "source": [
    "range_tensor8 = range_tensor4 / 3\n",
    "# also: range_tensor8 = torch.div(range_tensor4, 3)\n",
    "print(f'range_tensor4:\\n  {range_tensor4}')\n",
    "print()\n",
    "print(f'range_tensor8:\\n  {range_tensor8}')\n"
   ]
  },
  {
   "cell_type": "code",
   "execution_count": 59,
   "metadata": {},
   "outputs": [
    {
     "name": "stdout",
     "output_type": "stream",
     "text": [
      "range_tensor4:\n",
      "  tensor([[[ 0,  1,  2,  3],\n",
      "         [ 4,  5,  6,  7],\n",
      "         [ 8,  9, 10, 11]],\n",
      "\n",
      "        [[12, 13, 14, 15],\n",
      "         [16, 17, 18, 19],\n",
      "         [20, 21, 22, 23]]])\n",
      "\n",
      "range_tensor9:\n",
      "  tensor([[[  0,   1,   4,   9],\n",
      "         [ 16,  25,  36,  49],\n",
      "         [ 64,  81, 100, 121]],\n",
      "\n",
      "        [[144, 169, 196, 225],\n",
      "         [256, 289, 324, 361],\n",
      "         [400, 441, 484, 529]]])\n"
     ]
    }
   ],
   "source": [
    "# elemenet-wise multiplication\n",
    "range_tensor9 = range_tensor4 * range_tensor4\n",
    "# also: range_tensor9 = torch.mul(range_tensor4, range_tensor4)\n",
    "print(f'range_tensor4:\\n  {range_tensor4}')\n",
    "print()\n",
    "print(f'range_tensor9:\\n  {range_tensor9}')\n"
   ]
  },
  {
   "cell_type": "code",
   "execution_count": 70,
   "metadata": {},
   "outputs": [
    {
     "name": "stdout",
     "output_type": "stream",
     "text": [
      "range_tensor10 shape: torch.Size([2, 3])\n",
      "range_tensor10.T shape: torch.Size([3, 2])\n",
      "range_tensor11 shape: torch.Size([2, 2])\n",
      "\n",
      "range_tensor10:\n",
      "  tensor([[0, 1, 2],\n",
      "        [3, 4, 5]])\n",
      "\n",
      "range_tensor10.T:\n",
      "  tensor([[0, 3],\n",
      "        [1, 4],\n",
      "        [2, 5]])\n",
      "\n",
      "range_tensor11:\n",
      "  tensor([[ 5, 14],\n",
      "        [14, 50]])\n"
     ]
    }
   ],
   "source": [
    "# matrix multiplication\n",
    "range_tensor10 = torch.arange(0, 6).reshape(2, 3)\n",
    "range_tensor11 = range_tensor10 @ range_tensor10.T\n",
    "# also: range_tensor11 = torch.matmul(range_tensor10, range_tensor10.T)\n",
    "print(f'range_tensor10 shape: {range_tensor10.shape}')\n",
    "print(f'range_tensor10.T shape: {range_tensor10.T.shape}')\n",
    "print(f'range_tensor11 shape: {range_tensor11.shape}')\n",
    "print()\n",
    "print(f'range_tensor10:\\n  {range_tensor10}')\n",
    "print()\n",
    "print(f'range_tensor10.T:\\n  {range_tensor10.T}')\n",
    "print()\n",
    "print(f'range_tensor11:\\n  {range_tensor11}')\n"
   ]
  },
  {
   "cell_type": "markdown",
   "metadata": {},
   "source": [
    "### Tensor Aggregation"
   ]
  },
  {
   "cell_type": "code",
   "execution_count": 84,
   "metadata": {},
   "outputs": [
    {
     "name": "stdout",
     "output_type": "stream",
     "text": [
      "range_tensor9:\n",
      "  tensor([[[  0,   1,   4,   9],\n",
      "         [ 16,  25,  36,  49],\n",
      "         [ 64,  81, 100, 121]],\n",
      "\n",
      "        [[144, 169, 196, 225],\n",
      "         [256, 289, 324, 361],\n",
      "         [400, 441, 484, 529]]])\n",
      "\n",
      "range_tensor9.sum():  4324\n",
      "range_tensor9.min():  0\n",
      "range_tensor9.max():  529\n",
      "range_tensor9.mean():  180.1666717529297\n",
      "range_tensor9.std():  168.39437866210938\n",
      "range_tensor9.prod():  0\n",
      "range_tensor9.argmax():  23\n",
      "range_tensor9.argmin():  0\n"
     ]
    }
   ],
   "source": [
    "print(f'range_tensor9:\\n  {range_tensor9}')\n",
    "print()\n",
    "print(f'range_tensor9.sum():  {range_tensor9.sum()}')\n",
    "print(f'range_tensor9.min():  {range_tensor9.min()}')\n",
    "print(f'range_tensor9.max():  {range_tensor9.max()}')\n",
    "print(f'range_tensor9.mean():  {range_tensor9.type(torch.float32).mean()}') # type casting to float32\n",
    "print(f'range_tensor9.std():  {range_tensor9.type(torch.float32).std()}') # type casting to float32\n",
    "print(f'range_tensor9.prod():  {range_tensor9.prod()}')\n",
    "print(f'range_tensor9.argmax():  {range_tensor9.argmax()}')\n",
    "print(f'range_tensor9.argmin():  {range_tensor9.argmin()}')\n"
   ]
  },
  {
   "cell_type": "markdown",
   "metadata": {},
   "source": [
    "### Tensor Shape Manipulation"
   ]
  },
  {
   "cell_type": "markdown",
   "metadata": {},
   "source": []
  }
 ],
 "metadata": {
  "kernelspec": {
   "display_name": "Python 3",
   "language": "python",
   "name": "python3"
  },
  "language_info": {
   "codemirror_mode": {
    "name": "ipython",
    "version": 3
   },
   "file_extension": ".py",
   "mimetype": "text/x-python",
   "name": "python",
   "nbconvert_exporter": "python",
   "pygments_lexer": "ipython3",
   "version": "3.9.7"
  }
 },
 "nbformat": 4,
 "nbformat_minor": 2
}
