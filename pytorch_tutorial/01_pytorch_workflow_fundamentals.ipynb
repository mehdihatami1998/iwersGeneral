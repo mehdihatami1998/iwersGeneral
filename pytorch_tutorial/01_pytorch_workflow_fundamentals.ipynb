{
 "cells": [
  {
   "cell_type": "code",
   "execution_count": 1,
   "metadata": {},
   "outputs": [],
   "source": [
    "import torch\n",
    "import numpy as np\n",
    "import matplotlib.pyplot as plt\n",
    "import torch.nn as nn\n",
    "import torch.optim as optim"
   ]
  },
  {
   "cell_type": "code",
   "execution_count": 3,
   "metadata": {},
   "outputs": [
    {
     "name": "stdout",
     "output_type": "stream",
     "text": [
      "X[:10]]:\n",
      "tensor([[0.0000],\n",
      "        [0.0200],\n",
      "        [0.0400],\n",
      "        [0.0600],\n",
      "        [0.0800]])\n",
      "y[:10]]:\n",
      "tensor([[0.3000],\n",
      "        [0.3140],\n",
      "        [0.3280],\n",
      "        [0.3420],\n",
      "        [0.3560]])\n"
     ]
    }
   ],
   "source": [
    "# create some known paramters:\n",
    "weight = 0.7\n",
    "bias = 0.3\n",
    "\n",
    "# create some data:\n",
    "X = torch.arange(0, 1, 0.02).unsqueeze(dim=1)\n",
    "y = weight * X + bias\n",
    "print(f'X[:10]]:\\n{X[:5]}')\n",
    "print(f'y[:10]]:\\n{y[:5]}')"
   ]
  },
  {
   "cell_type": "code",
   "execution_count": 5,
   "metadata": {},
   "outputs": [
    {
     "name": "stdout",
     "output_type": "stream",
     "text": [
      "len(X_train): 40\n",
      "len(X_test): 10\n",
      "len(y_train): 40\n",
      "len(y_test): 10\n"
     ]
    }
   ],
   "source": [
    "# let's split data into train and test\n",
    "train_test_split = int(0.8 * len(X)) \n",
    "X_train, X_test = X[:train_test_split], X[train_test_split:]\n",
    "y_train, y_test = y[:train_test_split], y[train_test_split:]\n",
    "print(f'len(X_train): {len(X_train)}')\n",
    "print(f'len(X_test): {len(X_test)}')\n",
    "print(f'len(y_train): {len(y_train)}')\n",
    "print(f'len(y_test): {len(y_test)}')\n"
   ]
  },
  {
   "cell_type": "code",
   "execution_count": 8,
   "metadata": {},
   "outputs": [
    {
     "data": {
      "image/png": "[encoded data removed]",
      "text/plain": [
       "<Figure size 720x504 with 1 Axes>"
      ]
     },
     "metadata": {
      "needs_background": "light"
     },
     "output_type": "display_data"
    }
   ],
   "source": [
    "# let's create a plotting function\n",
    "def plot_prediction(train_data=X_train,\n",
    "                    train_labels=y_train,\n",
    "                    test_data=X_test,\n",
    "                    test_labels=y_test,\n",
    "                    predictions=None):\n",
    "    plt.figure(figsize=(10, 7))\n",
    "    plt.scatter(train_data, train_labels, c='b', label='Training data')\n",
    "    plt.scatter(test_data, test_labels, c='g', label='Testing data')\n",
    "    if predictions is not None:\n",
    "        plt.scatter(test_data, predictions, c='r', label='Predictions')\n",
    "    plt.legend()\n",
    "    plt.show()\n",
    "plot_prediction(predictions=None)"
   ]
  },
  {
   "cell_type": "code",
   "execution_count": 32,
   "metadata": {},
   "outputs": [],
   "source": [
    "# let's create a linear regression model class!\n",
    "# nn.module contains all building blocks for creating neural networks\n",
    "class LinearRegressionModel(nn.Module):\n",
    "    def __init__(self):\n",
    "        super().__init__()\n",
    "        # Initialize the model parameters\n",
    "        self.weights = nn.Parameter(torch.randn(1,\n",
    "                                    dtype=torch.float32,),\n",
    "                                    requires_grad=True)\n",
    "\n",
    "        self.bias = nn.Parameter(torch.randn(1,\n",
    "                                    dtype=torch.float32,),\n",
    "                                    requires_grad=True)\n",
    "\n",
    "    # any subclass of nn.Module must implement the forward method\n",
    "    def forward(self, X: torch.Tensor) -> torch.Tensor:\n",
    "        return self.weights * X + self.bias\n",
    "\n",
    "\n",
    "\n"
   ]
  },
  {
   "cell_type": "code",
   "execution_count": 33,
   "metadata": {},
   "outputs": [
    {
     "data": {
      "text/plain": [
       "OrderedDict([('weights', tensor([0.3367])), ('bias', tensor([0.1288]))])"
      ]
     },
     "execution_count": 33,
     "metadata": {},
     "output_type": "execute_result"
    }
   ],
   "source": [
    "# let's create an instance of the model class \n",
    "torch.manual_seed(42)\n",
    "torch.cuda.manual_seed(42)\n",
    "model_0 = LinearRegressionModel()\n",
    "model_0.state_dict()"
   ]
  },
  {
   "cell_type": "code",
   "execution_count": 34,
   "metadata": {},
   "outputs": [],
   "source": [
    "# let's make some predictions with our untrained model\n",
    "with torch.inference_mode():\n",
    "    y_preds = model_0.forward(X_test)\n",
    "    "
   ]
  },
  {
   "cell_type": "code",
   "execution_count": 35,
   "metadata": {},
   "outputs": [
    {
     "data": {
      "image/png": "[encoded data removed]",
      "text/plain": [
       "<Figure size 720x504 with 1 Axes>"
      ]
     },
     "metadata": {
      "needs_background": "light"
     },
     "output_type": "display_data"
    }
   ],
   "source": [
    "# let's plot our predictions\n",
    "plot_prediction(predictions=y_preds)"
   ]
  },
  {
   "cell_type": "code",
   "execution_count": 36,
   "metadata": {},
   "outputs": [],
   "source": [
    "# Lets train our model now\n",
    "\n",
    "# before making the training loop, we should make a loss function and an optimizer\n",
    "loss_fn = nn.L1Loss()\n",
    "optimizer = torch.optim.SGD(params=model_0.parameters(),\n",
    "                            lr=1e-1)"
   ]
  },
  {
   "cell_type": "code",
   "execution_count": 37,
   "metadata": {},
   "outputs": [
    {
     "name": "stdout",
     "output_type": "stream",
     "text": [
      "Epoch: 0, Train loss: 0.3129, Test loss: 0.3598\n",
      "Epoch: 10, Train loss: 0.0254, Test loss: 0.0543\n",
      "Epoch: 20, Train loss: 0.0398, Test loss: 0.1193\n",
      "Epoch: 30, Train loss: 0.0398, Test loss: 0.1193\n",
      "Epoch: 40, Train loss: 0.0398, Test loss: 0.1193\n",
      "Epoch: 50, Train loss: 0.0398, Test loss: 0.1193\n",
      "Epoch: 60, Train loss: 0.0398, Test loss: 0.1193\n",
      "Epoch: 70, Train loss: 0.0398, Test loss: 0.1193\n",
      "Epoch: 80, Train loss: 0.0398, Test loss: 0.1193\n",
      "Epoch: 90, Train loss: 0.0398, Test loss: 0.1193\n"
     ]
    }
   ],
   "source": [
    "# let's make a training loop\n",
    "epochs = 100\n",
    "train_losses = []\n",
    "test_losses = []\n",
    "epoch_counter = []\n",
    "\n",
    "for epoch in range(epochs):\n",
    "    # training phase:\n",
    "    # put the model on train mode\n",
    "    model_0.train()\n",
    "\n",
    "    # forward pass on train data\n",
    "    train_preds = model_0(X_train)\n",
    "\n",
    "    # calculate the loss\n",
    "    train_loss = loss_fn(train_preds, y_train)\n",
    "    \n",
    "    # zero the gradients\n",
    "    optimizer.zero_grad()\n",
    "\n",
    "    # backward pass\n",
    "    train_loss.backward()\n",
    "\n",
    "    # update the parameters\n",
    "    optimizer.step()\n",
    "\n",
    "    # testing phase:\n",
    "    # put the model on testing mode\n",
    "    model_0.eval()\n",
    "    with torch.inference_mode():\n",
    "        # forward pass on test data\n",
    "        test_preds = model_0(X_test)\n",
    "        # calculate the loss\n",
    "        test_loss = loss_fn(test_preds, y_test)\n",
    "\n",
    "        # print what is happening\n",
    "        if epoch % 10 == 0:\n",
    "            epoch_counter.append(epoch)\n",
    "            train_losses.append(train_loss.detach().numpy()) # detach the tensor from the computational graph\n",
    "            test_losses.append(test_loss.detach().numpy())  # detach the tensor from the computational graph\n",
    "            print(f'Epoch: {epoch}, Train loss: {train_loss.item():.4f}, Test loss: {test_loss.item():.4f}')\n",
    "\n",
    "\n",
    "\n"
   ]
  },
  {
   "cell_type": "code",
   "execution_count": 38,
   "metadata": {},
   "outputs": [
    {
     "data": {
      "image/png": "[encoded data removed]",
      "text/plain": [
       "<Figure size 432x288 with 1 Axes>"
      ]
     },
     "metadata": {
      "needs_background": "light"
     },
     "output_type": "display_data"
    }
   ],
   "source": [
    "# let's plot the losses\n",
    "plt.plot(epoch_counter, train_losses, label='Train loss')\n",
    "plt.plot(epoch_counter, test_losses, label='Test loss')\n",
    "plt.legend()\n",
    "plt.show()\n"
   ]
  },
  {
   "cell_type": "code",
   "execution_count": 39,
   "metadata": {},
   "outputs": [],
   "source": [
    "# now we can make predictions with our trained model\n",
    "with torch.inference_mode():\n",
    "    y_preds = model_0(X_test)\n",
    "\n"
   ]
  },
  {
   "cell_type": "code",
   "execution_count": 40,
   "metadata": {},
   "outputs": [
    {
     "data": {
      "image/png": "[encoded data removed]",
      "text/plain": [
       "<Figure size 720x504 with 1 Axes>"
      ]
     },
     "metadata": {
      "needs_background": "light"
     },
     "output_type": "display_data"
    }
   ],
   "source": [
    "plot_prediction(predictions=y_preds)"
   ]
  },
  {
   "cell_type": "code",
   "execution_count": 41,
   "metadata": {},
   "outputs": [],
   "source": [
    "# now that we have a trained model, we can save it\n",
    "# let's save the model's state_dict\n",
    "\n",
    "from pathlib import Path\n",
    "\n",
    "# step 1: create a folder to save the model\n",
    "Path('models').mkdir(exist_ok=True)\n",
    "\n",
    "# step 2: create a model save path\n",
    "save_path = Path('models/linear_regression_model.pt')\n",
    "\n",
    "# step 3: save the model's state_dict\n",
    "torch.save(model_0.state_dict(), save_path)\n"
   ]
  },
  {
   "cell_type": "code",
   "execution_count": 42,
   "metadata": {},
   "outputs": [
    {
     "data": {
      "text/plain": [
       "<All keys matched successfully>"
      ]
     },
     "execution_count": 42,
     "metadata": {},
     "output_type": "execute_result"
    }
   ],
   "source": [
    "# now we can load the model\n",
    "# step 1: create a model instance\n",
    "loaded_model_0 = LinearRegressionModel()\n",
    "\n",
    "# step 2: load the model's state_dict\n",
    "loaded_model_0.load_state_dict(torch.load(save_path))"
   ]
  },
  {
   "cell_type": "code",
   "execution_count": null,
   "metadata": {},
   "outputs": [],
   "source": []
  }
 ],
 "metadata": {
  "kernelspec": {
   "display_name": "base",
   "language": "python",
   "name": "python3"
  },
  "language_info": {
   "codemirror_mode": {
    "name": "ipython",
    "version": 3
   },
   "file_extension": ".py",
   "mimetype": "text/x-python",
   "name": "python",
   "nbconvert_exporter": "python",
   "pygments_lexer": "ipython3",
   "version": "3.9.7"
  }
 },
 "nbformat": 4,
 "nbformat_minor": 2
}
