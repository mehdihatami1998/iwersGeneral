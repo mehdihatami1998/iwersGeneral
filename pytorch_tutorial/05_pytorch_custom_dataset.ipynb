{
 "cells": [
  {
   "cell_type": "code",
   "execution_count": 2,
   "metadata": {},
   "outputs": [],
   "source": [
    "# In this notebook we will learn how to work on our own datasets, instead of using Pytorch datasets\n",
    "import torch\n",
    "from torch import nn"
   ]
  },
  {
   "cell_type": "code",
   "execution_count": 3,
   "metadata": {},
   "outputs": [
    {
     "data": {
      "text/plain": [
       "'cup'"
      ]
     },
     "execution_count": 3,
     "metadata": {},
     "output_type": "execute_result"
    }
   ],
   "source": [
    "# we will make our code device-agnostic\n",
    "device = 'cuda' if torch.cuda.is_available() else 'cup' \n",
    "device"
   ]
  },
  {
   "cell_type": "code",
   "execution_count": 7,
   "metadata": {},
   "outputs": [
    {
     "name": "stdout",
     "output_type": "stream",
     "text": [
      "didn't find data/pizza_steak_sushi directory. creating one ...\n",
      "downloading pizza, steak, sushi data\n",
      "unzipping the data\n"
     ]
    }
   ],
   "source": [
    "# we will download a subset of food 101 for this project\n",
    "import requests\n",
    "import zipfile\n",
    "from pathlib import Path\n",
    "\n",
    "# setup a path to the datafolder\n",
    "data_path = Path(\"data/\")\n",
    "image_path = data_path / \"pizza_steak_sushi\"\n",
    "\n",
    "# check if image folder exists, if not, download and prepare it\n",
    "if image_path.is_dir():\n",
    "    print(f\"{image_path} directory already exists.\")\n",
    "else:\n",
    "    print(f\"didn't find {image_path} directory. creating one ...\")\n",
    "    image_path.mkdir(parents=True, exist_ok=True)\n",
    "\n",
    "    # after creating the directory, we should download data to it\n",
    "    with open(data_path / \"pizza_steak_suchi.zip\", \"wb\") as f:\n",
    "        request = requests.get(\"https://github.com/mrdbourke/pytorch-deep-learning/raw/main/data/pizza_steak_sushi.zip\")\n",
    "        print(\"downloading pizza, steak, sushi data\")\n",
    "        f.write(request.content)\n",
    "\n",
    "\n",
    "    # unzip the downloaded data\n",
    "    with zipfile.ZipFile(data_path / \"pizza_steak_suchi.zip\", \"r\") as zip_ref:\n",
    "        print(\"unzipping the data\")\n",
    "        zip_ref.extractall(image_path)\n"
   ]
  },
  {
   "cell_type": "code",
   "execution_count": 8,
   "metadata": {},
   "outputs": [
    {
     "name": "stdout",
     "output_type": "stream",
     "text": [
      "There are 2 directories and 0 images in data/pizza_steak_sushi. \n",
      "There are 3 directories and 0 images in data/pizza_steak_sushi/test. \n",
      "There are 0 directories and 19 images in data/pizza_steak_sushi/test/steak. \n",
      "There are 0 directories and 31 images in data/pizza_steak_sushi/test/sushi. \n",
      "There are 0 directories and 25 images in data/pizza_steak_sushi/test/pizza. \n",
      "There are 3 directories and 0 images in data/pizza_steak_sushi/train. \n",
      "There are 0 directories and 75 images in data/pizza_steak_sushi/train/steak. \n",
      "There are 0 directories and 72 images in data/pizza_steak_sushi/train/sushi. \n",
      "There are 0 directories and 78 images in data/pizza_steak_sushi/train/pizza. \n"
     ]
    }
   ],
   "source": [
    "# now we should prepare and explore our data\n",
    "# take this data storage structure and turn it into a dataset usable with PyTorch.\n",
    "# in order to loop through the directory we use os.walk\n",
    "\n",
    "import os\n",
    "def walk_through_dir(dir_path):\n",
    "    \"\"\"walks through dir_path and returns its content\n",
    "    \n",
    "    Args:\n",
    "        dir_path (str or pathlib.Path): target directory\n",
    "        \n",
    "    Returns:\n",
    "        number of subdirectories in dir_path\n",
    "        number of images(files) in each subdirectory\n",
    "        name of each subdirectory\n",
    "    \"\"\"\n",
    "\n",
    "    for dirpath, dirnames, filenames in os.walk(dir_path):\n",
    "        print(f\"There are {len(dirnames)} directories and {len(filenames)} images in {dirpath}. \")\n",
    "\n",
    "walk_through_dir(image_path)"
   ]
  },
  {
   "cell_type": "code",
   "execution_count": 9,
   "metadata": {},
   "outputs": [
    {
     "data": {
      "text/plain": [
       "(PosixPath('data/pizza_steak_sushi/test'),\n",
       " PosixPath('data/pizza_steak_sushi/train'))"
      ]
     },
     "execution_count": 9,
     "metadata": {},
     "output_type": "execute_result"
    }
   ],
   "source": [
    "# now we can set up train path and test path\n",
    "train_dir = image_path / \"train\"\n",
    "test_dir = image_path / \"test\" \n",
    "\n",
    "test_dir, train_dir"
   ]
  },
  {
   "cell_type": "code",
   "execution_count": null,
   "metadata": {},
   "outputs": [],
   "source": []
  }
 ],
 "metadata": {
  "kernelspec": {
   "display_name": "base",
   "language": "python",
   "name": "python3"
  },
  "language_info": {
   "codemirror_mode": {
    "name": "ipython",
    "version": 3
   },
   "file_extension": ".py",
   "mimetype": "text/x-python",
   "name": "python",
   "nbconvert_exporter": "python",
   "pygments_lexer": "ipython3",
   "version": "3.9.7"
  }
 },
 "nbformat": 4,
 "nbformat_minor": 2
}
